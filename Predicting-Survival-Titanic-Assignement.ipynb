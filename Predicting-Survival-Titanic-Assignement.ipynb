{
 "cells": [
  {
   "cell_type": "markdown",
   "metadata": {},
   "source": [
    "## Predicting Survival on the Titanic\n",
    "\n",
    "### History\n",
    "Perhaps one of the most infamous shipwrecks in history, the Titanic sank after colliding with an iceberg, killing 1502 out of 2224 people on board. Interestingly, by analysing the probability of survival based on few attributes like gender, age, and social status, we can make very accurate predictions on which passengers would survive. Some groups of people were more likely to survive than others, such as women, children, and the upper-class. Therefore, we can learn about the society priorities and privileges at the time.\n",
    "\n",
    "### Assignment:\n",
    "\n",
    "Build a Machine Learning Pipeline, to engineer the features in the data set and predict who is more likely to Survive the catastrophe.\n",
    "\n",
    "Follow the Jupyter notebook below, and complete the missing bits of code, to achieve each one of the pipeline steps."
   ]
  },
  {
   "cell_type": "code",
   "execution_count": 430,
   "metadata": {},
   "outputs": [
    {
     "name": "stdout",
     "output_type": "stream",
     "text": [
      "Requirement already satisfied: joblib in c:\\users\\joshu\\appdata\\local\\continuum\\anaconda3\\lib\\site-packages (0.14.1)\n"
     ]
    }
   ],
   "source": [
    "!pip install joblib"
   ]
  },
  {
   "cell_type": "code",
   "execution_count": 431,
   "metadata": {},
   "outputs": [],
   "source": [
    "import re\n",
    "\n",
    "# to handle datasets\n",
    "import pandas as pd\n",
    "import numpy as np\n",
    "\n",
    "# for visualization\n",
    "import matplotlib.pyplot as plt\n",
    "\n",
    "# to divide train and test set\n",
    "from sklearn.model_selection import train_test_split\n",
    "\n",
    "# feature scaling\n",
    "from sklearn.preprocessing import StandardScaler, OneHotEncoder\n",
    "\n",
    "# to build the models\n",
    "from sklearn.linear_model import LogisticRegression\n",
    "\n",
    "# to evaluate the models\n",
    "from sklearn.metrics import accuracy_score, roc_auc_score\n",
    "\n",
    "# to persist the model and the scaler\n",
    "import joblib\n",
    "\n",
    "# to visualise al the columns in the dataframe\n",
    "pd.pandas.set_option('display.max_columns', None)"
   ]
  },
  {
   "cell_type": "markdown",
   "metadata": {},
   "source": [
    "## Prepare the data set"
   ]
  },
  {
   "cell_type": "code",
   "execution_count": 432,
   "metadata": {},
   "outputs": [
    {
     "data": {
      "text/html": [
       "<div>\n",
       "<style scoped>\n",
       "    .dataframe tbody tr th:only-of-type {\n",
       "        vertical-align: middle;\n",
       "    }\n",
       "\n",
       "    .dataframe tbody tr th {\n",
       "        vertical-align: top;\n",
       "    }\n",
       "\n",
       "    .dataframe thead th {\n",
       "        text-align: right;\n",
       "    }\n",
       "</style>\n",
       "<table border=\"1\" class=\"dataframe\">\n",
       "  <thead>\n",
       "    <tr style=\"text-align: right;\">\n",
       "      <th></th>\n",
       "      <th>pclass</th>\n",
       "      <th>survived</th>\n",
       "      <th>name</th>\n",
       "      <th>sex</th>\n",
       "      <th>age</th>\n",
       "      <th>sibsp</th>\n",
       "      <th>parch</th>\n",
       "      <th>ticket</th>\n",
       "      <th>fare</th>\n",
       "      <th>cabin</th>\n",
       "      <th>embarked</th>\n",
       "      <th>boat</th>\n",
       "      <th>body</th>\n",
       "      <th>home.dest</th>\n",
       "    </tr>\n",
       "  </thead>\n",
       "  <tbody>\n",
       "    <tr>\n",
       "      <th>0</th>\n",
       "      <td>1</td>\n",
       "      <td>1</td>\n",
       "      <td>Allen, Miss. Elisabeth Walton</td>\n",
       "      <td>female</td>\n",
       "      <td>29</td>\n",
       "      <td>0</td>\n",
       "      <td>0</td>\n",
       "      <td>24160</td>\n",
       "      <td>211.3375</td>\n",
       "      <td>B5</td>\n",
       "      <td>S</td>\n",
       "      <td>2</td>\n",
       "      <td>?</td>\n",
       "      <td>St Louis, MO</td>\n",
       "    </tr>\n",
       "    <tr>\n",
       "      <th>1</th>\n",
       "      <td>1</td>\n",
       "      <td>1</td>\n",
       "      <td>Allison, Master. Hudson Trevor</td>\n",
       "      <td>male</td>\n",
       "      <td>0.9167</td>\n",
       "      <td>1</td>\n",
       "      <td>2</td>\n",
       "      <td>113781</td>\n",
       "      <td>151.55</td>\n",
       "      <td>C22 C26</td>\n",
       "      <td>S</td>\n",
       "      <td>11</td>\n",
       "      <td>?</td>\n",
       "      <td>Montreal, PQ / Chesterville, ON</td>\n",
       "    </tr>\n",
       "    <tr>\n",
       "      <th>2</th>\n",
       "      <td>1</td>\n",
       "      <td>0</td>\n",
       "      <td>Allison, Miss. Helen Loraine</td>\n",
       "      <td>female</td>\n",
       "      <td>2</td>\n",
       "      <td>1</td>\n",
       "      <td>2</td>\n",
       "      <td>113781</td>\n",
       "      <td>151.55</td>\n",
       "      <td>C22 C26</td>\n",
       "      <td>S</td>\n",
       "      <td>?</td>\n",
       "      <td>?</td>\n",
       "      <td>Montreal, PQ / Chesterville, ON</td>\n",
       "    </tr>\n",
       "    <tr>\n",
       "      <th>3</th>\n",
       "      <td>1</td>\n",
       "      <td>0</td>\n",
       "      <td>Allison, Mr. Hudson Joshua Creighton</td>\n",
       "      <td>male</td>\n",
       "      <td>30</td>\n",
       "      <td>1</td>\n",
       "      <td>2</td>\n",
       "      <td>113781</td>\n",
       "      <td>151.55</td>\n",
       "      <td>C22 C26</td>\n",
       "      <td>S</td>\n",
       "      <td>?</td>\n",
       "      <td>135</td>\n",
       "      <td>Montreal, PQ / Chesterville, ON</td>\n",
       "    </tr>\n",
       "    <tr>\n",
       "      <th>4</th>\n",
       "      <td>1</td>\n",
       "      <td>0</td>\n",
       "      <td>Allison, Mrs. Hudson J C (Bessie Waldo Daniels)</td>\n",
       "      <td>female</td>\n",
       "      <td>25</td>\n",
       "      <td>1</td>\n",
       "      <td>2</td>\n",
       "      <td>113781</td>\n",
       "      <td>151.55</td>\n",
       "      <td>C22 C26</td>\n",
       "      <td>S</td>\n",
       "      <td>?</td>\n",
       "      <td>?</td>\n",
       "      <td>Montreal, PQ / Chesterville, ON</td>\n",
       "    </tr>\n",
       "  </tbody>\n",
       "</table>\n",
       "</div>"
      ],
      "text/plain": [
       "   pclass  survived                                             name     sex  \\\n",
       "0       1         1                    Allen, Miss. Elisabeth Walton  female   \n",
       "1       1         1                   Allison, Master. Hudson Trevor    male   \n",
       "2       1         0                     Allison, Miss. Helen Loraine  female   \n",
       "3       1         0             Allison, Mr. Hudson Joshua Creighton    male   \n",
       "4       1         0  Allison, Mrs. Hudson J C (Bessie Waldo Daniels)  female   \n",
       "\n",
       "      age  sibsp  parch  ticket      fare    cabin embarked boat body  \\\n",
       "0      29      0      0   24160  211.3375       B5        S    2    ?   \n",
       "1  0.9167      1      2  113781    151.55  C22 C26        S   11    ?   \n",
       "2       2      1      2  113781    151.55  C22 C26        S    ?    ?   \n",
       "3      30      1      2  113781    151.55  C22 C26        S    ?  135   \n",
       "4      25      1      2  113781    151.55  C22 C26        S    ?    ?   \n",
       "\n",
       "                         home.dest  \n",
       "0                     St Louis, MO  \n",
       "1  Montreal, PQ / Chesterville, ON  \n",
       "2  Montreal, PQ / Chesterville, ON  \n",
       "3  Montreal, PQ / Chesterville, ON  \n",
       "4  Montreal, PQ / Chesterville, ON  "
      ]
     },
     "execution_count": 432,
     "metadata": {},
     "output_type": "execute_result"
    }
   ],
   "source": [
    "# load the data - it is available open source and online\n",
    "\n",
    "data = pd.read_csv('https://www.openml.org/data/get_csv/16826755/phpMYEkMl')\n",
    "\n",
    "# display data\n",
    "data.head()"
   ]
  },
  {
   "cell_type": "code",
   "execution_count": 433,
   "metadata": {},
   "outputs": [],
   "source": [
    "# replace interrogation marks by NaN values\n",
    "\n",
    "data = data.replace('?', np.nan)"
   ]
  },
  {
   "cell_type": "code",
   "execution_count": 434,
   "metadata": {},
   "outputs": [],
   "source": [
    "# retain only the first cabin if more than\n",
    "# 1 are available per passenger\n",
    "\n",
    "def get_first_cabin(row):\n",
    "    try:\n",
    "        return row.split()[0]\n",
    "    except:\n",
    "        return np.nan\n",
    "    \n",
    "data['cabin'] = data['cabin'].apply(get_first_cabin)"
   ]
  },
  {
   "cell_type": "code",
   "execution_count": 435,
   "metadata": {},
   "outputs": [],
   "source": [
    "# extracts the title (Mr, Ms, etc) from the name variable\n",
    "\n",
    "def get_title(passenger):\n",
    "    line = passenger\n",
    "    if re.search('Mrs', line):\n",
    "        return 'Mrs'\n",
    "    elif re.search('Mr', line):\n",
    "        return 'Mr'\n",
    "    elif re.search('Miss', line):\n",
    "        return 'Miss'\n",
    "    elif re.search('Master', line):\n",
    "        return 'Master'\n",
    "    else:\n",
    "        return 'Other'\n",
    "    \n",
    "data['title'] = data['name'].apply(get_title)"
   ]
  },
  {
   "cell_type": "code",
   "execution_count": 436,
   "metadata": {},
   "outputs": [],
   "source": [
    "# cast numerical variables as floats\n",
    "\n",
    "data['fare'] = data['fare'].astype('float')\n",
    "data['age'] = data['age'].astype('float')"
   ]
  },
  {
   "cell_type": "code",
   "execution_count": 437,
   "metadata": {},
   "outputs": [
    {
     "data": {
      "text/html": [
       "<div>\n",
       "<style scoped>\n",
       "    .dataframe tbody tr th:only-of-type {\n",
       "        vertical-align: middle;\n",
       "    }\n",
       "\n",
       "    .dataframe tbody tr th {\n",
       "        vertical-align: top;\n",
       "    }\n",
       "\n",
       "    .dataframe thead th {\n",
       "        text-align: right;\n",
       "    }\n",
       "</style>\n",
       "<table border=\"1\" class=\"dataframe\">\n",
       "  <thead>\n",
       "    <tr style=\"text-align: right;\">\n",
       "      <th></th>\n",
       "      <th>pclass</th>\n",
       "      <th>survived</th>\n",
       "      <th>sex</th>\n",
       "      <th>age</th>\n",
       "      <th>sibsp</th>\n",
       "      <th>parch</th>\n",
       "      <th>fare</th>\n",
       "      <th>cabin</th>\n",
       "      <th>embarked</th>\n",
       "      <th>title</th>\n",
       "    </tr>\n",
       "  </thead>\n",
       "  <tbody>\n",
       "    <tr>\n",
       "      <th>0</th>\n",
       "      <td>1</td>\n",
       "      <td>1</td>\n",
       "      <td>female</td>\n",
       "      <td>29.0000</td>\n",
       "      <td>0</td>\n",
       "      <td>0</td>\n",
       "      <td>211.3375</td>\n",
       "      <td>B5</td>\n",
       "      <td>S</td>\n",
       "      <td>Miss</td>\n",
       "    </tr>\n",
       "    <tr>\n",
       "      <th>1</th>\n",
       "      <td>1</td>\n",
       "      <td>1</td>\n",
       "      <td>male</td>\n",
       "      <td>0.9167</td>\n",
       "      <td>1</td>\n",
       "      <td>2</td>\n",
       "      <td>151.5500</td>\n",
       "      <td>C22</td>\n",
       "      <td>S</td>\n",
       "      <td>Master</td>\n",
       "    </tr>\n",
       "    <tr>\n",
       "      <th>2</th>\n",
       "      <td>1</td>\n",
       "      <td>0</td>\n",
       "      <td>female</td>\n",
       "      <td>2.0000</td>\n",
       "      <td>1</td>\n",
       "      <td>2</td>\n",
       "      <td>151.5500</td>\n",
       "      <td>C22</td>\n",
       "      <td>S</td>\n",
       "      <td>Miss</td>\n",
       "    </tr>\n",
       "    <tr>\n",
       "      <th>3</th>\n",
       "      <td>1</td>\n",
       "      <td>0</td>\n",
       "      <td>male</td>\n",
       "      <td>30.0000</td>\n",
       "      <td>1</td>\n",
       "      <td>2</td>\n",
       "      <td>151.5500</td>\n",
       "      <td>C22</td>\n",
       "      <td>S</td>\n",
       "      <td>Mr</td>\n",
       "    </tr>\n",
       "    <tr>\n",
       "      <th>4</th>\n",
       "      <td>1</td>\n",
       "      <td>0</td>\n",
       "      <td>female</td>\n",
       "      <td>25.0000</td>\n",
       "      <td>1</td>\n",
       "      <td>2</td>\n",
       "      <td>151.5500</td>\n",
       "      <td>C22</td>\n",
       "      <td>S</td>\n",
       "      <td>Mrs</td>\n",
       "    </tr>\n",
       "  </tbody>\n",
       "</table>\n",
       "</div>"
      ],
      "text/plain": [
       "   pclass  survived     sex      age  sibsp  parch      fare cabin embarked  \\\n",
       "0       1         1  female  29.0000      0      0  211.3375    B5        S   \n",
       "1       1         1    male   0.9167      1      2  151.5500   C22        S   \n",
       "2       1         0  female   2.0000      1      2  151.5500   C22        S   \n",
       "3       1         0    male  30.0000      1      2  151.5500   C22        S   \n",
       "4       1         0  female  25.0000      1      2  151.5500   C22        S   \n",
       "\n",
       "    title  \n",
       "0    Miss  \n",
       "1  Master  \n",
       "2    Miss  \n",
       "3      Mr  \n",
       "4     Mrs  "
      ]
     },
     "execution_count": 437,
     "metadata": {},
     "output_type": "execute_result"
    }
   ],
   "source": [
    "# drop unnecessary variables\n",
    "\n",
    "data.drop(labels=['name','ticket', 'boat', 'body','home.dest'], axis=1, inplace=True)\n",
    "\n",
    "# display data\n",
    "data.head()"
   ]
  },
  {
   "cell_type": "code",
   "execution_count": 438,
   "metadata": {},
   "outputs": [],
   "source": [
    "# save the data set\n",
    "\n",
    "data.to_csv('titanic.csv', index=False)"
   ]
  },
  {
   "cell_type": "markdown",
   "metadata": {},
   "source": [
    "## Data Exploration\n",
    "\n",
    "### Find numerical and categorical variables"
   ]
  },
  {
   "cell_type": "code",
   "execution_count": 439,
   "metadata": {},
   "outputs": [],
   "source": [
    "target = 'survived'"
   ]
  },
  {
   "cell_type": "code",
   "execution_count": 440,
   "metadata": {},
   "outputs": [
    {
     "name": "stdout",
     "output_type": "stream",
     "text": [
      "Number of numerical variables: 6\n",
      "Number of categorical variables: 4\n"
     ]
    }
   ],
   "source": [
    "#vars_num = # fill your code here\n",
    "\n",
    "vars_cat = [col for col in data.columns if data[col].dtype == 'O']\n",
    "vars_num = [col for col in data.columns if data[col].dtype != 'O']\n",
    "\n",
    "print('Number of numerical variables: {}'.format(len(vars_num)))\n",
    "print('Number of categorical variables: {}'.format(len(vars_cat)))"
   ]
  },
  {
   "cell_type": "markdown",
   "metadata": {},
   "source": [
    "### Find missing values in variables"
   ]
  },
  {
   "cell_type": "code",
   "execution_count": 441,
   "metadata": {},
   "outputs": [
    {
     "data": {
      "text/plain": [
       "pclass        0\n",
       "survived      0\n",
       "age         263\n",
       "sibsp         0\n",
       "parch         0\n",
       "fare          1\n",
       "dtype: int64"
      ]
     },
     "execution_count": 441,
     "metadata": {},
     "output_type": "execute_result"
    }
   ],
   "source": [
    "# first in numerical variables\n",
    "(data[vars_num].isnull()).sum()\n"
   ]
  },
  {
   "cell_type": "code",
   "execution_count": 442,
   "metadata": {},
   "outputs": [
    {
     "data": {
      "text/plain": [
       "sex            0\n",
       "cabin       1014\n",
       "embarked       2\n",
       "title          0\n",
       "dtype: int64"
      ]
     },
     "execution_count": 442,
     "metadata": {},
     "output_type": "execute_result"
    }
   ],
   "source": [
    "# now in categorical variables\n",
    "(data[vars_cat].isnull()).sum()\n",
    "\n"
   ]
  },
  {
   "cell_type": "markdown",
   "metadata": {},
   "source": [
    "### Determine cardinality of categorical variables"
   ]
  },
  {
   "cell_type": "code",
   "execution_count": 443,
   "metadata": {},
   "outputs": [
    {
     "data": {
      "text/plain": [
       "sex           2\n",
       "cabin       181\n",
       "embarked      3\n",
       "title         5\n",
       "dtype: int64"
      ]
     },
     "execution_count": 443,
     "metadata": {},
     "output_type": "execute_result"
    }
   ],
   "source": [
    "data[vars_cat].nunique(axis=0)"
   ]
  },
  {
   "cell_type": "markdown",
   "metadata": {},
   "source": [
    "### Determine the distribution of numerical variables"
   ]
  },
  {
   "cell_type": "code",
   "execution_count": 444,
   "metadata": {},
   "outputs": [
    {
     "data": {
      "image/png": "[encoded data removed]",
      "text/plain": [
       "<Figure size 432x288 with 1 Axes>"
      ]
     },
     "metadata": {
      "needs_background": "light"
     },
     "output_type": "display_data"
    },
    {
     "data": {
      "image/png": "[encoded data removed]",
      "text/plain": [
       "<Figure size 432x288 with 1 Axes>"
      ]
     },
     "metadata": {
      "needs_background": "light"
     },
     "output_type": "display_data"
    },
    {
     "name": "stderr",
     "output_type": "stream",
     "text": [
      "C:\\Users\\Joshu\\AppData\\Local\\Continuum\\anaconda3\\lib\\site-packages\\numpy\\lib\\histograms.py:824: RuntimeWarning: invalid value encountered in greater_equal\n",
      "  keep = (tmp_a >= first_edge)\n",
      "C:\\Users\\Joshu\\AppData\\Local\\Continuum\\anaconda3\\lib\\site-packages\\numpy\\lib\\histograms.py:825: RuntimeWarning: invalid value encountered in less_equal\n",
      "  keep &= (tmp_a <= last_edge)\n"
     ]
    },
    {
     "data": {
      "image/png": "[encoded data removed]",
      "text/plain": [
       "<Figure size 432x288 with 1 Axes>"
      ]
     },
     "metadata": {
      "needs_background": "light"
     },
     "output_type": "display_data"
    },
    {
     "data": {
      "image/png": "[encoded data removed]",
      "text/plain": [
       "<Figure size 432x288 with 1 Axes>"
      ]
     },
     "metadata": {
      "needs_background": "light"
     },
     "output_type": "display_data"
    },
    {
     "data": {
      "image/png": "[encoded data removed]",
      "text/plain": [
       "<Figure size 432x288 with 1 Axes>"
      ]
     },
     "metadata": {
      "needs_background": "light"
     },
     "output_type": "display_data"
    },
    {
     "data": {
      "image/png": "[encoded data removed]",
      "text/plain": [
       "<Figure size 432x288 with 1 Axes>"
      ]
     },
     "metadata": {
      "needs_background": "light"
     },
     "output_type": "display_data"
    }
   ],
   "source": [
    "def plot_cts(df, var):\n",
    "    df = df.copy()\n",
    "    plt.hist(df[var])\n",
    "    plt.xlabel(var)\n",
    "    plt.ylabel('number')\n",
    "    plt.show()\n",
    "\n",
    "for var in vars_num:\n",
    "    plot_cts(data, var)"
   ]
  },
  {
   "cell_type": "markdown",
   "metadata": {},
   "source": [
    "## Separate data into train and test\n",
    "\n",
    "Use the code below for reproducibility. Don't change it."
   ]
  },
  {
   "cell_type": "code",
   "execution_count": 445,
   "metadata": {},
   "outputs": [
    {
     "data": {
      "text/plain": [
       "((1047, 9), (262, 9))"
      ]
     },
     "execution_count": 445,
     "metadata": {},
     "output_type": "execute_result"
    }
   ],
   "source": [
    "X_train, X_test, y_train, y_test = train_test_split(\n",
    "    data.drop('survived', axis=1),  # predictors\n",
    "    data['survived'],  # target\n",
    "    test_size=0.2,  # percentage of obs in test set\n",
    "    random_state=0)  # seed to ensure reproducibility\n",
    "\n",
    "X_train.shape, X_test.shape"
   ]
  },
  {
   "cell_type": "markdown",
   "metadata": {},
   "source": [
    "## Feature Engineering\n",
    "\n",
    "### Extract only the letter (and drop the number) from the variable Cabin"
   ]
  },
  {
   "cell_type": "code",
   "execution_count": 446,
   "metadata": {},
   "outputs": [],
   "source": [
    "def transform_cabin(x):\n",
    "    if type(x)==str:\n",
    "        return x[0]\n",
    "\n",
    "X_train['cabin'] = X_train['cabin'].map(transform_cabin)"
   ]
  },
  {
   "cell_type": "markdown",
   "metadata": {},
   "source": [
    "### Fill in Missing data in numerical variables:\n",
    "\n",
    "- Add a binary missing indicator\n",
    "- Fill NA in original variable with the median"
   ]
  },
  {
   "cell_type": "code",
   "execution_count": 447,
   "metadata": {
    "scrolled": true
   },
   "outputs": [],
   "source": [
    "for var in [var for var in vars_num if var != 'survived']:\n",
    "    X_train[var+'_na'] = np.where(X_train[var].isnull(),1,0)\n",
    "    X_test[var+'_na'] = np.where(X_test[var].isnull(),1,0)\n",
    "    med = X_train[var].median()\n",
    "    X_train[var] = X_train[var].fillna(med)\n",
    "    X_test[var] = X_test[var].fillna(med)\n"
   ]
  },
  {
   "cell_type": "code",
   "execution_count": 448,
   "metadata": {},
   "outputs": [
    {
     "name": "stdout",
     "output_type": "stream",
     "text": [
      "pclass         0\n",
      "sex            0\n",
      "age            0\n",
      "sibsp          0\n",
      "parch          0\n",
      "fare           0\n",
      "cabin        803\n",
      "embarked       2\n",
      "title          0\n",
      "pclass_na      0\n",
      "age_na         0\n",
      "sibsp_na       0\n",
      "parch_na       0\n",
      "fare_na        0\n",
      "dtype: int64\n",
      "['sex', 'cabin', 'embarked', 'title']\n"
     ]
    }
   ],
   "source": [
    "print(X_train.isnull().sum())\n",
    "print(vars_cat)"
   ]
  },
  {
   "cell_type": "markdown",
   "metadata": {},
   "source": [
    "### Replace Missing data in categorical variables with the string **Missing**"
   ]
  },
  {
   "cell_type": "code",
   "execution_count": 449,
   "metadata": {},
   "outputs": [],
   "source": [
    "for var in vars_cat:\n",
    "    X_train[var] = X_train[var].fillna('Missing')\n",
    "    X_test[var] = X_test[var].fillna('Missing')\n"
   ]
  },
  {
   "cell_type": "code",
   "execution_count": 450,
   "metadata": {},
   "outputs": [
    {
     "name": "stdout",
     "output_type": "stream",
     "text": [
      "pclass       0\n",
      "sex          0\n",
      "age          0\n",
      "sibsp        0\n",
      "parch        0\n",
      "fare         0\n",
      "cabin        0\n",
      "embarked     0\n",
      "title        0\n",
      "pclass_na    0\n",
      "age_na       0\n",
      "sibsp_na     0\n",
      "parch_na     0\n",
      "fare_na      0\n",
      "dtype: int64\n",
      "['sex', 'cabin', 'embarked', 'title']\n"
     ]
    }
   ],
   "source": [
    "print(X_train.isnull().sum())\n",
    "print(vars_cat)"
   ]
  },
  {
   "cell_type": "code",
   "execution_count": null,
   "metadata": {},
   "outputs": [],
   "source": []
  },
  {
   "cell_type": "markdown",
   "metadata": {},
   "source": [
    "### Remove rare labels in categorical variables\n",
    "\n",
    "- remove labels present in less than 5 % of the passengers"
   ]
  },
  {
   "cell_type": "code",
   "execution_count": 451,
   "metadata": {},
   "outputs": [],
   "source": [
    "def find_rare_labels(df, var, rare_perc):\n",
    "    df = df.copy()\n",
    "    numrows = len(df)\n",
    "    #tmp = df.groupby(var).count().iloc[:,0]/numrows\n",
    "    tmp = df[var].value_counts()/numrows\n",
    "    return tmp[tmp<rare_perc]"
   ]
  },
  {
   "cell_type": "code",
   "execution_count": 452,
   "metadata": {},
   "outputs": [
    {
     "name": "stdout",
     "output_type": "stream",
     "text": [
      "sex []\n",
      "cabin ['B', 'E', 'D', 'A', 'F', 'G', 'T']\n",
      "embarked ['Missing']\n",
      "title ['Master', 'Other']\n"
     ]
    }
   ],
   "source": [
    "rare_labels_dict = {}\n",
    "for var in vars_cat:\n",
    "    rare_labels = find_rare_labels(X_train, var, 0.05)\n",
    "    print(var, rare_labels.index.tolist())\n",
    "    rare_labels_dict[var]=rare_labels.index.tolist()\n"
   ]
  },
  {
   "cell_type": "code",
   "execution_count": 453,
   "metadata": {},
   "outputs": [],
   "source": [
    "def replace_rare(x, var):\n",
    "    if x in rare_labels_dict[var]:\n",
    "        return 'rare'\n",
    "    else:\n",
    "        return x"
   ]
  },
  {
   "cell_type": "code",
   "execution_count": 454,
   "metadata": {},
   "outputs": [
    {
     "name": "stdout",
     "output_type": "stream",
     "text": [
      "pclass       0\n",
      "sex          0\n",
      "age          0\n",
      "sibsp        0\n",
      "parch        0\n",
      "fare         0\n",
      "cabin        0\n",
      "embarked     0\n",
      "title        0\n",
      "pclass_na    0\n",
      "age_na       0\n",
      "sibsp_na     0\n",
      "parch_na     0\n",
      "fare_na      0\n",
      "dtype: int64\n",
      "['sex', 'cabin', 'embarked', 'title']\n"
     ]
    }
   ],
   "source": [
    "print(X_train.isnull().sum())\n",
    "print(vars_cat)"
   ]
  },
  {
   "cell_type": "code",
   "execution_count": 455,
   "metadata": {},
   "outputs": [
    {
     "name": "stdout",
     "output_type": "stream",
     "text": [
      "sex []\n",
      "cabin []\n",
      "embarked ['rare']\n",
      "title []\n"
     ]
    }
   ],
   "source": [
    "for var in vars_cat:\n",
    "    X_train[var] = X_train[var].map(lambda x: replace_rare(x, var))\n",
    "    X_test[var] = X_test[var].map(lambda x: replace_rare(x, var))\n",
    "\n",
    "for var in vars_cat:\n",
    "    new_rare_labels = find_rare_labels(X_train, var, 0.05)\n",
    "    print(var, new_rare_labels.index.tolist())\n",
    "    "
   ]
  },
  {
   "cell_type": "code",
   "execution_count": 456,
   "metadata": {},
   "outputs": [
    {
     "name": "stdout",
     "output_type": "stream",
     "text": [
      "pclass       0\n",
      "sex          0\n",
      "age          0\n",
      "sibsp        0\n",
      "parch        0\n",
      "fare         0\n",
      "cabin        0\n",
      "embarked     0\n",
      "title        0\n",
      "pclass_na    0\n",
      "age_na       0\n",
      "sibsp_na     0\n",
      "parch_na     0\n",
      "fare_na      0\n",
      "dtype: int64\n",
      "['sex', 'cabin', 'embarked', 'title']\n"
     ]
    }
   ],
   "source": [
    "print(X_train.isnull().sum())\n",
    "print(vars_cat)"
   ]
  },
  {
   "cell_type": "markdown",
   "metadata": {},
   "source": [
    "### Perform one hot encoding of categorical variables into k-1 binary variables\n",
    "\n",
    "- k-1, means that if the variable contains 9 different categories, we create 8 different binary variables\n",
    "- Remember to drop the original categorical variable (the one with the strings) after the encoding"
   ]
  },
  {
   "cell_type": "code",
   "execution_count": 457,
   "metadata": {},
   "outputs": [
    {
     "name": "stdout",
     "output_type": "stream",
     "text": [
      "sex\n",
      "pclass       0\n",
      "sex          0\n",
      "age          0\n",
      "sibsp        0\n",
      "parch        0\n",
      "fare         0\n",
      "cabin        0\n",
      "embarked     0\n",
      "title        0\n",
      "pclass_na    0\n",
      "age_na       0\n",
      "sibsp_na     0\n",
      "parch_na     0\n",
      "fare_na      0\n",
      "dtype: int64\n",
      "sex\n",
      "pclass       0\n",
      "sex          0\n",
      "age          0\n",
      "sibsp        0\n",
      "parch        0\n",
      "fare         0\n",
      "cabin        0\n",
      "embarked     0\n",
      "title        0\n",
      "pclass_na    0\n",
      "age_na       0\n",
      "sibsp_na     0\n",
      "parch_na     0\n",
      "fare_na      0\n",
      "dtype: int64\n",
      "sex before concat\n",
      "pclass       0\n",
      "sex          0\n",
      "age          0\n",
      "sibsp        0\n",
      "parch        0\n",
      "fare         0\n",
      "cabin        0\n",
      "embarked     0\n",
      "title        0\n",
      "pclass_na    0\n",
      "age_na       0\n",
      "sibsp_na     0\n",
      "parch_na     0\n",
      "fare_na      0\n",
      "dtype: int64\n",
      "sex after concat\n",
      "pclass       0\n",
      "sex          0\n",
      "age          0\n",
      "sibsp        0\n",
      "parch        0\n",
      "fare         0\n",
      "cabin        0\n",
      "embarked     0\n",
      "title        0\n",
      "pclass_na    0\n",
      "age_na       0\n",
      "sibsp_na     0\n",
      "parch_na     0\n",
      "fare_na      0\n",
      "sex_1        0\n",
      "sex_2        0\n",
      "dtype: int64\n",
      "sex\n",
      "pclass       0\n",
      "age          0\n",
      "sibsp        0\n",
      "parch        0\n",
      "fare         0\n",
      "cabin        0\n",
      "embarked     0\n",
      "title        0\n",
      "pclass_na    0\n",
      "age_na       0\n",
      "sibsp_na     0\n",
      "parch_na     0\n",
      "fare_na      0\n",
      "sex_1        0\n",
      "sex_2        0\n",
      "dtype: int64\n",
      "cabin\n",
      "pclass       0\n",
      "age          0\n",
      "sibsp        0\n",
      "parch        0\n",
      "fare         0\n",
      "cabin        0\n",
      "embarked     0\n",
      "title        0\n",
      "pclass_na    0\n",
      "age_na       0\n",
      "sibsp_na     0\n",
      "parch_na     0\n",
      "fare_na      0\n",
      "sex_1        0\n",
      "sex_2        0\n",
      "dtype: int64\n",
      "cabin\n",
      "pclass       0\n",
      "age          0\n",
      "sibsp        0\n",
      "parch        0\n",
      "fare         0\n",
      "cabin        0\n",
      "embarked     0\n",
      "title        0\n",
      "pclass_na    0\n",
      "age_na       0\n",
      "sibsp_na     0\n",
      "parch_na     0\n",
      "fare_na      0\n",
      "sex_1        0\n",
      "sex_2        0\n",
      "dtype: int64\n",
      "cabin before concat\n",
      "pclass       0\n",
      "age          0\n",
      "sibsp        0\n",
      "parch        0\n",
      "fare         0\n",
      "cabin        0\n",
      "embarked     0\n",
      "title        0\n",
      "pclass_na    0\n",
      "age_na       0\n",
      "sibsp_na     0\n",
      "parch_na     0\n",
      "fare_na      0\n",
      "sex_1        0\n",
      "sex_2        0\n",
      "dtype: int64\n",
      "cabin after concat\n",
      "pclass       0\n",
      "age          0\n",
      "sibsp        0\n",
      "parch        0\n",
      "fare         0\n",
      "cabin        0\n",
      "embarked     0\n",
      "title        0\n",
      "pclass_na    0\n",
      "age_na       0\n",
      "sibsp_na     0\n",
      "parch_na     0\n",
      "fare_na      0\n",
      "sex_1        0\n",
      "sex_2        0\n",
      "cabin_1      0\n",
      "cabin_2      0\n",
      "cabin_3      0\n",
      "dtype: int64\n",
      "cabin\n",
      "pclass       0\n",
      "age          0\n",
      "sibsp        0\n",
      "parch        0\n",
      "fare         0\n",
      "embarked     0\n",
      "title        0\n",
      "pclass_na    0\n",
      "age_na       0\n",
      "sibsp_na     0\n",
      "parch_na     0\n",
      "fare_na      0\n",
      "sex_1        0\n",
      "sex_2        0\n",
      "cabin_1      0\n",
      "cabin_2      0\n",
      "cabin_3      0\n",
      "dtype: int64\n",
      "embarked\n",
      "pclass       0\n",
      "age          0\n",
      "sibsp        0\n",
      "parch        0\n",
      "fare         0\n",
      "embarked     0\n",
      "title        0\n",
      "pclass_na    0\n",
      "age_na       0\n",
      "sibsp_na     0\n",
      "parch_na     0\n",
      "fare_na      0\n",
      "sex_1        0\n",
      "sex_2        0\n",
      "cabin_1      0\n",
      "cabin_2      0\n",
      "cabin_3      0\n",
      "dtype: int64\n",
      "embarked\n",
      "pclass       0\n",
      "age          0\n",
      "sibsp        0\n",
      "parch        0\n",
      "fare         0\n",
      "embarked     0\n",
      "title        0\n",
      "pclass_na    0\n",
      "age_na       0\n",
      "sibsp_na     0\n",
      "parch_na     0\n",
      "fare_na      0\n",
      "sex_1        0\n",
      "sex_2        0\n",
      "cabin_1      0\n",
      "cabin_2      0\n",
      "cabin_3      0\n",
      "dtype: int64\n",
      "embarked before concat\n",
      "pclass       0\n",
      "age          0\n",
      "sibsp        0\n",
      "parch        0\n",
      "fare         0\n",
      "embarked     0\n",
      "title        0\n",
      "pclass_na    0\n",
      "age_na       0\n",
      "sibsp_na     0\n",
      "parch_na     0\n",
      "fare_na      0\n",
      "sex_1        0\n",
      "sex_2        0\n",
      "cabin_1      0\n",
      "cabin_2      0\n",
      "cabin_3      0\n",
      "dtype: int64\n",
      "embarked after concat\n",
      "pclass        0\n",
      "age           0\n",
      "sibsp         0\n",
      "parch         0\n",
      "fare          0\n",
      "embarked      0\n",
      "title         0\n",
      "pclass_na     0\n",
      "age_na        0\n",
      "sibsp_na      0\n",
      "parch_na      0\n",
      "fare_na       0\n",
      "sex_1         0\n",
      "sex_2         0\n",
      "cabin_1       0\n",
      "cabin_2       0\n",
      "cabin_3       0\n",
      "embarked_1    0\n",
      "embarked_2    0\n",
      "embarked_3    0\n",
      "embarked_4    0\n",
      "dtype: int64\n",
      "embarked\n",
      "pclass        0\n",
      "age           0\n",
      "sibsp         0\n",
      "parch         0\n",
      "fare          0\n",
      "title         0\n",
      "pclass_na     0\n",
      "age_na        0\n",
      "sibsp_na      0\n",
      "parch_na      0\n",
      "fare_na       0\n",
      "sex_1         0\n",
      "sex_2         0\n",
      "cabin_1       0\n",
      "cabin_2       0\n",
      "cabin_3       0\n",
      "embarked_1    0\n",
      "embarked_2    0\n",
      "embarked_3    0\n",
      "embarked_4    0\n",
      "dtype: int64\n",
      "title\n",
      "pclass        0\n",
      "age           0\n",
      "sibsp         0\n",
      "parch         0\n",
      "fare          0\n",
      "title         0\n",
      "pclass_na     0\n",
      "age_na        0\n",
      "sibsp_na      0\n",
      "parch_na      0\n",
      "fare_na       0\n",
      "sex_1         0\n",
      "sex_2         0\n",
      "cabin_1       0\n",
      "cabin_2       0\n",
      "cabin_3       0\n",
      "embarked_1    0\n",
      "embarked_2    0\n",
      "embarked_3    0\n",
      "embarked_4    0\n",
      "dtype: int64\n",
      "title\n",
      "pclass        0\n",
      "age           0\n",
      "sibsp         0\n",
      "parch         0\n",
      "fare          0\n",
      "title         0\n",
      "pclass_na     0\n",
      "age_na        0\n",
      "sibsp_na      0\n",
      "parch_na      0\n",
      "fare_na       0\n",
      "sex_1         0\n",
      "sex_2         0\n",
      "cabin_1       0\n",
      "cabin_2       0\n",
      "cabin_3       0\n",
      "embarked_1    0\n",
      "embarked_2    0\n",
      "embarked_3    0\n",
      "embarked_4    0\n",
      "dtype: int64\n",
      "title before concat\n",
      "pclass        0\n",
      "age           0\n",
      "sibsp         0\n",
      "parch         0\n",
      "fare          0\n",
      "title         0\n",
      "pclass_na     0\n",
      "age_na        0\n",
      "sibsp_na      0\n",
      "parch_na      0\n",
      "fare_na       0\n",
      "sex_1         0\n",
      "sex_2         0\n",
      "cabin_1       0\n",
      "cabin_2       0\n",
      "cabin_3       0\n",
      "embarked_1    0\n",
      "embarked_2    0\n",
      "embarked_3    0\n",
      "embarked_4    0\n",
      "dtype: int64\n",
      "title after concat\n",
      "pclass        0\n",
      "age           0\n",
      "sibsp         0\n",
      "parch         0\n",
      "fare          0\n",
      "title         0\n",
      "pclass_na     0\n",
      "age_na        0\n",
      "sibsp_na      0\n",
      "parch_na      0\n",
      "fare_na       0\n",
      "sex_1         0\n",
      "sex_2         0\n",
      "cabin_1       0\n",
      "cabin_2       0\n",
      "cabin_3       0\n",
      "embarked_1    0\n",
      "embarked_2    0\n",
      "embarked_3    0\n",
      "embarked_4    0\n",
      "title_1       0\n",
      "title_2       0\n",
      "title_3       0\n",
      "title_4       0\n",
      "dtype: int64\n",
      "title\n",
      "pclass        0\n",
      "age           0\n",
      "sibsp         0\n",
      "parch         0\n",
      "fare          0\n",
      "pclass_na     0\n",
      "age_na        0\n",
      "sibsp_na      0\n",
      "parch_na      0\n",
      "fare_na       0\n",
      "sex_1         0\n",
      "sex_2         0\n",
      "cabin_1       0\n",
      "cabin_2       0\n",
      "cabin_3       0\n",
      "embarked_1    0\n",
      "embarked_2    0\n",
      "embarked_3    0\n",
      "embarked_4    0\n",
      "title_1       0\n",
      "title_2       0\n",
      "title_3       0\n",
      "title_4       0\n",
      "dtype: int64\n"
     ]
    }
   ],
   "source": [
    "for var in vars_cat:\n",
    "    print(var)\n",
    "    print(X_train.isnull().sum())\n",
    "    myencoder = OneHotEncoder(dtype=np.int, handle_unknown='ignore')\n",
    "    myencoder.fit(pd.DataFrame(X_train[var]))\n",
    "    \n",
    "    print(var)\n",
    "    print(X_train.isnull().sum())\n",
    "    var_encoded_array = myencoder.transform(pd.DataFrame(X_train[var])).toarray()\n",
    "    numcols = var_encoded_array.shape[1]\n",
    "    colslist = [var+'_'+str(i) for i in range(1,numcols+1)]\n",
    "    var_encoded_df = pd.DataFrame(var_encoded_array, columns=colslist)\n",
    "    var_encoded_df_columns = var_encoded_df.columns\n",
    "    var_encoded_df.drop(columns = [var_encoded_df_columns[0]])\n",
    "    print(var,'before concat')\n",
    "    print(X_train.isnull().sum())\n",
    "    var_encoded_df.index = X_train.index\n",
    "    X_train = pd.concat([X_train,var_encoded_df],axis=1)\n",
    "    print(var,'after concat')\n",
    "    print(X_train.isnull().sum())\n",
    "    X_train.drop(columns=[var],inplace=True)\n",
    "    \n",
    "    print(var)\n",
    "    print(X_train.isnull().sum())\n",
    "    var_encoded_array2 = myencoder.transform(pd.DataFrame(X_test[var])).toarray()\n",
    "    numcols = var_encoded_array2.shape[1]\n",
    "    colslist = [var+'_'+str(i) for i in range(1,numcols+1)]\n",
    "    var_encoded_df2 = pd.DataFrame(var_encoded_array2, columns=colslist)\n",
    "    var_encoded_df2.drop(columns = [var_encoded_df_columns[0]])\n",
    "    var_encoded_df2.index = X_test.index\n",
    "    X_test = pd.concat([X_test,var_encoded_df2],axis=1)\n",
    "    X_test.drop(columns=[var],inplace=True)\n",
    "    "
   ]
  },
  {
   "cell_type": "code",
   "execution_count": 29,
   "metadata": {},
   "outputs": [
    {
     "name": "stdout",
     "output_type": "stream",
     "text": [
      "The scikit-learn version is 0.20.3.\n"
     ]
    }
   ],
   "source": []
  },
  {
   "cell_type": "code",
   "execution_count": 17,
   "metadata": {},
   "outputs": [],
   "source": []
  },
  {
   "cell_type": "code",
   "execution_count": null,
   "metadata": {},
   "outputs": [],
   "source": []
  },
  {
   "cell_type": "code",
   "execution_count": null,
   "metadata": {},
   "outputs": [],
   "source": []
  },
  {
   "cell_type": "markdown",
   "metadata": {},
   "source": [
    "### Scale the variables\n",
    "\n",
    "- Use the standard scaler from Scikit-learn"
   ]
  },
  {
   "cell_type": "code",
   "execution_count": 458,
   "metadata": {},
   "outputs": [
    {
     "name": "stderr",
     "output_type": "stream",
     "text": [
      "C:\\Users\\Joshu\\AppData\\Local\\Continuum\\anaconda3\\lib\\site-packages\\sklearn\\preprocessing\\data.py:645: DataConversionWarning: Data with input dtype int32, int64, float64 were all converted to float64 by StandardScaler.\n",
      "  return self.partial_fit(X, y)\n",
      "C:\\Users\\Joshu\\AppData\\Local\\Continuum\\anaconda3\\lib\\site-packages\\ipykernel_launcher.py:3: DataConversionWarning: Data with input dtype int32, int64, float64 were all converted to float64 by StandardScaler.\n",
      "  This is separate from the ipykernel package so we can avoid doing imports until\n",
      "C:\\Users\\Joshu\\AppData\\Local\\Continuum\\anaconda3\\lib\\site-packages\\ipykernel_launcher.py:4: DataConversionWarning: Data with input dtype int32, int64, float64 were all converted to float64 by StandardScaler.\n",
      "  after removing the cwd from sys.path.\n"
     ]
    }
   ],
   "source": [
    "scaler = StandardScaler()\n",
    "scaler.fit(X_train)\n",
    "X_train = scaler.transform(X_train)\n",
    "X_test = scaler.transform(X_test)"
   ]
  },
  {
   "cell_type": "markdown",
   "metadata": {},
   "source": [
    "## Train the Logistic Regression model\n",
    "\n",
    "- Set the regularization parameter to 0.0005\n",
    "- Set the seed to 0"
   ]
  },
  {
   "cell_type": "code",
   "execution_count": 459,
   "metadata": {},
   "outputs": [
    {
     "name": "stderr",
     "output_type": "stream",
     "text": [
      "C:\\Users\\Joshu\\AppData\\Local\\Continuum\\anaconda3\\lib\\site-packages\\sklearn\\linear_model\\logistic.py:433: FutureWarning: Default solver will be changed to 'lbfgs' in 0.22. Specify a solver to silence this warning.\n",
      "  FutureWarning)\n"
     ]
    },
    {
     "data": {
      "text/plain": [
       "LogisticRegression(C=2000.0, class_weight=None, dual=False,\n",
       "          fit_intercept=True, intercept_scaling=1, max_iter=100,\n",
       "          multi_class='warn', n_jobs=None, penalty='l2', random_state=0,\n",
       "          solver='warn', tol=0.0001, verbose=0, warm_start=False)"
      ]
     },
     "execution_count": 459,
     "metadata": {},
     "output_type": "execute_result"
    }
   ],
   "source": [
    "myModel = LogisticRegression(random_state=0, C=1/0.0005)\n",
    "myModel.fit(X_train, y_train)"
   ]
  },
  {
   "cell_type": "markdown",
   "metadata": {},
   "source": [
    "## Make predictions and evaluate model performance\n",
    "\n",
    "Determine:\n",
    "- roc-auc\n",
    "- accuracy\n",
    "\n",
    "**Important, remember that to determine the accuracy, you need the outcome 0, 1, referring to survived or not. But to determine the roc-auc you need the probability of survival.**"
   ]
  },
  {
   "cell_type": "code",
   "execution_count": 462,
   "metadata": {},
   "outputs": [
    {
     "name": "stdout",
     "output_type": "stream",
     "text": [
      "0.7794444444444444 0.8053435114503816\n"
     ]
    }
   ],
   "source": [
    "yhat_train = myModel.predict(X_train)\n",
    "yhat_test = myModel.predict(X_test)\n",
    "\n",
    "test_rocauc = sklearn.metrics.roc_auc_score(y_test,yhat_test)\n",
    "test_accuracy = sklearn.metrics.accuracy_score(y_test,yhat_test)\n",
    "\n",
    "print(test_rocauc,test_accuracy)"
   ]
  },
  {
   "cell_type": "markdown",
   "metadata": {},
   "source": [
    "That's it! Well done\n",
    "\n",
    "**Keep this code safe, as we will use this notebook later on, to build production code, in our next assignement!!**"
   ]
  },
  {
   "cell_type": "code",
   "execution_count": null,
   "metadata": {},
   "outputs": [],
   "source": []
  }
 ],
 "metadata": {
  "kernelspec": {
   "display_name": "Python 3",
   "language": "python",
   "name": "python3"
  },
  "language_info": {
   "codemirror_mode": {
    "name": "ipython",
    "version": 3
   },
   "file_extension": ".py",
   "mimetype": "text/x-python",
   "name": "python",
   "nbconvert_exporter": "python",
   "pygments_lexer": "ipython3",
   "version": "3.7.3"
  },
  "toc": {
   "nav_menu": {},
   "number_sections": true,
   "sideBar": true,
   "skip_h1_title": false,
   "toc_cell": false,
   "toc_position": {},
   "toc_section_display": true,
   "toc_window_display": true
  }
 },
 "nbformat": 4,
 "nbformat_minor": 2
}
